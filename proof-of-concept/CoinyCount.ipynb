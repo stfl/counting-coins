{
 "cells": [
  {
   "cell_type": "code",
   "execution_count": 15,
   "metadata": {},
   "outputs": [],
   "source": [
    "import pandas as pd\n",
    "import numpy as np\n",
    "import glob\n",
    "import csv"
   ]
  },
  {
   "cell_type": "code",
   "execution_count": 2,
   "metadata": {},
   "outputs": [
    {
     "name": "stderr",
     "output_type": "stream",
     "text": [
      "/usr/lib/python3.9/site-packages/openpyxl/worksheet/header_footer.py:48: UserWarning: Cannot parse header or footer so it will be ignored\n",
      "  warn(\"\"\"Cannot parse header or footer so it will be ignored\"\"\")\n"
     ]
    }
   ],
   "source": [
    "lager = pd.read_excel('temp/GEWERBE - Rechnung - Lager.xlsx',\n",
    "                      header=2,\n",
    "                      dtype={\n",
    "                          \"Jahr\" : str,\n",
    "                      })"
   ]
  },
  {
   "cell_type": "markdown",
   "metadata": {},
   "source": [
    "remove the stuff below in the Lager file"
   ]
  },
  {
   "cell_type": "code",
   "execution_count": 3,
   "metadata": {},
   "outputs": [],
   "source": [
    "lager = lager.iloc[0:lager['Jahr'].last_valid_index()+1]"
   ]
  },
  {
   "cell_type": "code",
   "execution_count": 4,
   "metadata": {},
   "outputs": [],
   "source": [
    "lager = lager.convert_dtypes({\n",
    "    'verkauft' : np.float64,\n",
    "})"
   ]
  },
  {
   "cell_type": "markdown",
   "metadata": {},
   "source": [
    "Load Lager and remove all rows where Artikelnr is not set.\n",
    "\n",
    "Ignore rows that have an invalid value in the Artikelnr column"
   ]
  },
  {
   "cell_type": "code",
   "execution_count": 44,
   "metadata": {},
   "outputs": [],
   "source": [
    "lager_agg = lager[lager['eingestellt'].isnull()].groupby('Artikelnr', dropna=True).agg(\n",
    "    available=('Stk', 'sum'),\n",
    "    price=('verkauft', 'max'))"
   ]
  },
  {
   "cell_type": "code",
   "execution_count": 7,
   "metadata": {},
   "outputs": [
    {
     "data": {
      "text/plain": [
       "3.5"
      ]
     },
     "execution_count": 7,
     "metadata": {},
     "output_type": "execute_result"
    }
   ],
   "source": [
    "lager[lager['Artikelnr'] == 'DEU2015002320']['verkauft'].max()"
   ]
  },
  {
   "cell_type": "markdown",
   "metadata": {},
   "source": [
    "Load Coin Database"
   ]
  },
  {
   "cell_type": "code",
   "execution_count": 8,
   "metadata": {},
   "outputs": [],
   "source": [
    "coin_db = pd.read_excel('Münzdatenbank.xlsx',\n",
    "                        dtype={'groupid': str})"
   ]
  },
  {
   "cell_type": "markdown",
   "metadata": {},
   "source": [
    "Generate the Picpath"
   ]
  },
  {
   "cell_type": "code",
   "execution_count": 9,
   "metadata": {},
   "outputs": [],
   "source": [
    "coin_db['picpath'] = coin_db['Artikelnr'] + '0.jpg'"
   ]
  },
  {
   "cell_type": "markdown",
   "metadata": {},
   "source": [
    "Append the required 0 and 2 to the end of the Artikelnr"
   ]
  },
  {
   "cell_type": "code",
   "execution_count": 10,
   "metadata": {},
   "outputs": [],
   "source": [
    "coin_db_2 = coin_db.copy()\n",
    "coin_db_2['Artikelnr'] = coin_db['Artikelnr'] + '2'\n",
    "coin_db_2['rate'] = \"20\"\n",
    "\n",
    "coin_db['Artikelnr'] = coin_db['Artikelnr'] + '0'\n",
    "coin_db['rate'] = \"0\"\n",
    "\n",
    "coin_db = pd.concat([coin_db, coin_db_2])"
   ]
  },
  {
   "cell_type": "code",
   "execution_count": 11,
   "metadata": {},
   "outputs": [],
   "source": [
    "coin_db = coin_db.set_index('Artikelnr')"
   ]
  },
  {
   "cell_type": "code",
   "execution_count": 12,
   "metadata": {},
   "outputs": [],
   "source": [
    "coins_in_shop = lager_agg.join(coin_db, how=\"right\")\n",
    "coins_in_shop.loc[coins_in_shop['available'].notna(), 'CMD'] = ''\n",
    "coins_in_shop['available'] = coins_in_shop['available'].fillna(0)"
   ]
  },
  {
   "cell_type": "code",
   "execution_count": 77,
   "metadata": {},
   "outputs": [
    {
     "name": "stdout",
     "output_type": "stream",
     "text": [
      "Fehlende Münzen in der Münzdatenbank:\n"
     ]
    },
    {
     "data": {
      "text/html": [
       "<div>\n",
       "<style scoped>\n",
       "    .dataframe tbody tr th:only-of-type {\n",
       "        vertical-align: middle;\n",
       "    }\n",
       "\n",
       "    .dataframe tbody tr th {\n",
       "        vertical-align: top;\n",
       "    }\n",
       "\n",
       "    .dataframe thead th {\n",
       "        text-align: right;\n",
       "    }\n",
       "</style>\n",
       "<table border=\"1\" class=\"dataframe\">\n",
       "  <thead>\n",
       "    <tr style=\"text-align: right;\">\n",
       "      <th></th>\n",
       "      <th>Artikelnr</th>\n",
       "      <th>available</th>\n",
       "      <th>price</th>\n",
       "    </tr>\n",
       "    <tr>\n",
       "      <th>Münzbezeichnung</th>\n",
       "      <th></th>\n",
       "      <th></th>\n",
       "      <th></th>\n",
       "    </tr>\n",
       "  </thead>\n",
       "  <tbody>\n",
       "    <tr>\n",
       "      <th>10 Euro Silber 2020 PP 75 J. Ende 2. Weltkrieg</th>\n",
       "      <td>MAl2020010100</td>\n",
       "      <td>1</td>\n",
       "      <td>69.0</td>\n",
       "    </tr>\n",
       "    <tr>\n",
       "      <th>10 Euro Silber 2020 PP UNESCO Verbotene Stadt</th>\n",
       "      <td>FRA2020010350</td>\n",
       "      <td>2</td>\n",
       "      <td>64.0</td>\n",
       "    </tr>\n",
       "    <tr>\n",
       "      <th>2 Euro SM Deutschland 2016 Dresdner Zwinger J Rolle</th>\n",
       "      <td>DEU2016002240</td>\n",
       "      <td>1</td>\n",
       "      <td>58.0</td>\n",
       "    </tr>\n",
       "    <tr>\n",
       "      <th>2 Euro SM Frankreich 2012 Abbe Pierre Rolle</th>\n",
       "      <td>FRA201200220</td>\n",
       "      <td>1</td>\n",
       "      <td>92.0</td>\n",
       "    </tr>\n",
       "    <tr>\n",
       "      <th>2 Euro SM Frankreich 2014 AIDS Rolle</th>\n",
       "      <td>FRA201400260</td>\n",
       "      <td>1</td>\n",
       "      <td>72.0</td>\n",
       "    </tr>\n",
       "    <tr>\n",
       "      <th>...</th>\n",
       "      <td>...</td>\n",
       "      <td>...</td>\n",
       "      <td>...</td>\n",
       "    </tr>\n",
       "    <tr>\n",
       "      <th>3 Euro SM 2020 30 J. Volksabstimmung zur Unabhängigkeit Rolle</th>\n",
       "      <td>SLO2020003200</td>\n",
       "      <td>10</td>\n",
       "      <td>5.0</td>\n",
       "    </tr>\n",
       "    <tr>\n",
       "      <th>30 g Silber China 2020 Panda</th>\n",
       "      <td>CHI2020001100</td>\n",
       "      <td>2</td>\n",
       "      <td>26.0</td>\n",
       "    </tr>\n",
       "    <tr>\n",
       "      <th>KMS 2004 1ct - 2 Euro unc lose</th>\n",
       "      <td>DEU2004388190</td>\n",
       "      <td>1</td>\n",
       "      <td>9.0</td>\n",
       "    </tr>\n",
       "    <tr>\n",
       "      <th>KMS 2013 unc lose</th>\n",
       "      <td>IRL2013388130</td>\n",
       "      <td>1</td>\n",
       "      <td>12.0</td>\n",
       "    </tr>\n",
       "    <tr>\n",
       "      <th>KMS 2020 unc lose</th>\n",
       "      <td>ZYP2020388120</td>\n",
       "      <td>2</td>\n",
       "      <td>7.0</td>\n",
       "    </tr>\n",
       "  </tbody>\n",
       "</table>\n",
       "<p>78 rows × 3 columns</p>\n",
       "</div>"
      ],
      "text/plain": [
       "                                                        Artikelnr  available  \\\n",
       "Münzbezeichnung                                                                \n",
       "10 Euro Silber 2020 PP 75 J. Ende 2. Weltkrieg      MAl2020010100          1   \n",
       "10 Euro Silber 2020 PP UNESCO Verbotene Stadt       FRA2020010350          2   \n",
       "2 Euro SM Deutschland 2016 Dresdner Zwinger J R...  DEU2016002240          1   \n",
       "2 Euro SM Frankreich 2012 Abbe Pierre Rolle          FRA201200220          1   \n",
       "2 Euro SM Frankreich 2014 AIDS Rolle                 FRA201400260          1   \n",
       "...                                                           ...        ...   \n",
       "3 Euro SM 2020 30 J. Volksabstimmung zur Unabhä...  SLO2020003200         10   \n",
       "30 g Silber China 2020 Panda                        CHI2020001100          2   \n",
       "KMS 2004 1ct - 2 Euro unc lose                      DEU2004388190          1   \n",
       "KMS 2013 unc lose                                   IRL2013388130          1   \n",
       "KMS 2020 unc lose                                   ZYP2020388120          2   \n",
       "\n",
       "                                                    price  \n",
       "Münzbezeichnung                                            \n",
       "10 Euro Silber 2020 PP 75 J. Ende 2. Weltkrieg       69.0  \n",
       "10 Euro Silber 2020 PP UNESCO Verbotene Stadt        64.0  \n",
       "2 Euro SM Deutschland 2016 Dresdner Zwinger J R...   58.0  \n",
       "2 Euro SM Frankreich 2012 Abbe Pierre Rolle          92.0  \n",
       "2 Euro SM Frankreich 2014 AIDS Rolle                 72.0  \n",
       "...                                                   ...  \n",
       "3 Euro SM 2020 30 J. Volksabstimmung zur Unabhä...    5.0  \n",
       "30 g Silber China 2020 Panda                         26.0  \n",
       "KMS 2004 1ct - 2 Euro unc lose                        9.0  \n",
       "KMS 2013 unc lose                                    12.0  \n",
       "KMS 2020 unc lose                                     7.0  \n",
       "\n",
       "[78 rows x 3 columns]"
      ]
     },
     "execution_count": 77,
     "metadata": {},
     "output_type": "execute_result"
    }
   ],
   "source": [
    "coin_db_missing = lager_agg.join(coin_db, how=\"left\")\n",
    "coin_db_missing = coin_db_missing.loc[coin_db_missing['name'].isna(), ['available', 'price']\n",
    "                   ].join(lager.set_index('Artikelnr')['Münzbezeichnung'],\n",
    "                          how='left').reset_index().groupby('Münzbezeichnung').first()\n",
    "coin_db_missing.to_excel(\"fehlt.xlsx\")\n",
    "print(\"Fehlende Münzen in der Münzdatenbank:\")\n",
    "coin_db_missing"
   ]
  },
  {
   "cell_type": "code",
   "execution_count": 13,
   "metadata": {},
   "outputs": [],
   "source": [
    "coins_in_shop.to_csv('gesamt.csv',\n",
    "                             sep='\\t',\n",
    "                             encoding=\"cp1252\",\n",
    "                             line_terminator='\\r\\n',\n",
    "                             quoting=csv.QUOTE_MINIMAL,\n",
    "                             quotechar='\\'',\n",
    "                             index=True,\n",
    "                             index_label='realid'\n",
    "                            )"
   ]
  }
 ],
 "metadata": {
  "kernelspec": {
   "display_name": "Python 3",
   "language": "python",
   "name": "python3"
  },
  "language_info": {
   "codemirror_mode": {
    "name": "ipython",
    "version": 3
   },
   "file_extension": ".py",
   "mimetype": "text/x-python",
   "name": "python",
   "nbconvert_exporter": "python",
   "pygments_lexer": "ipython3",
   "version": "3.9.1"
  }
 },
 "nbformat": 4,
 "nbformat_minor": 4
}
